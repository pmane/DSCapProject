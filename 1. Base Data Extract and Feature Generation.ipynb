{
 "cells": [
  {
   "cell_type": "code",
   "execution_count": 20,
   "metadata": {},
   "outputs": [],
   "source": [
    "import numpy as np\n",
    "import pandas as pd\n",
    "import yfinance as yf\n",
    "import os"
   ]
  },
  {
   "cell_type": "code",
   "execution_count": 21,
   "metadata": {},
   "outputs": [],
   "source": [
    "data_dir = 'stock_data'\n",
    "\n",
    "if not os.path.exists(data_dir):\n",
    "    os.makedirs(data_dir)"
   ]
  },
  {
   "cell_type": "code",
   "execution_count": 22,
   "metadata": {},
   "outputs": [
    {
     "name": "stdout",
     "output_type": "stream",
     "text": [
      "[*********************100%***********************]  1 of 1 completed\n"
     ]
    }
   ],
   "source": [
    "#Download data from yahoo finance API\n",
    "data_path = os.path.join(data_dir, 'Raw.csv')\n",
    "data = yf.download(\"^NSEI\", start=\"2011-01-01\", end=\"2018-01-01\")"
   ]
  },
  {
   "cell_type": "code",
   "execution_count": 23,
   "metadata": {},
   "outputs": [],
   "source": [
    "#Drop Adj Close and volume , we do not need it \n",
    "data=data.drop(['Adj Close','Volume'], axis=1)"
   ]
  },
  {
   "cell_type": "code",
   "execution_count": 24,
   "metadata": {},
   "outputs": [],
   "source": [
    "# Classify each day as a 1 or a 0 and near zero move as negative to address transaction cost.\n",
    "\n",
    "def clas(df):\n",
    "    n = len(df)\n",
    "    arr = []\n",
    "    for i in range(0,len(df)-1):\n",
    "        if (100*((df.Close[i+1]-df.Open[i+1])/df.Open[i+1]))>=0: # Classificing near zero moves to negative move. \n",
    "            arr.append(1)\n",
    "        else:\n",
    "            arr.append(0)\n",
    "    arr.append('N')\n",
    "    return arr\n",
    "\n",
    "clas=clas(data)\n",
    "\n",
    "#Add Class to our dataframe\n",
    "data['Class'] = clas"
   ]
  },
  {
   "cell_type": "code",
   "execution_count": 25,
   "metadata": {},
   "outputs": [],
   "source": [
    "#Calculate percentage change as returns\n",
    "data_pctchange=data.Close.pct_change()\n",
    "data['return'] = data_pctchange"
   ]
  },
  {
   "cell_type": "code",
   "execution_count": 26,
   "metadata": {},
   "outputs": [],
   "source": [
    "#Create feature lagged returns\n",
    "lags = 5\n",
    "\n",
    "cols = []\n",
    "for lag in range(1, lags+1):\n",
    "    col = 'ret_%d' % lag\n",
    "    data[col] = data['return'].shift(lag)\n",
    "    cols.append(col) \n"
   ]
  },
  {
   "cell_type": "code",
   "execution_count": 27,
   "metadata": {},
   "outputs": [],
   "source": [
    "#Calculate the return sign\n",
    "data.dropna(inplace=True)\n",
    "data['return_sign'] = np.sign(data['return'].values)"
   ]
  },
  {
   "cell_type": "code",
   "execution_count": 28,
   "metadata": {},
   "outputs": [],
   "source": [
    "# calculate EMA for each day\n",
    "# formula: EMA = (2/(n+1))*ClosePrice + (1-(2/(n+1)))*previousEMA\n",
    "\n",
    "def EMA(df, n):\n",
    "    m = len(df)\n",
    "    arr = []\n",
    "    arr.append('N')\n",
    "    prevEMA = df.Close[0]\n",
    "    for i in range(1,m):\n",
    "        close = df.Close[i]\n",
    "        EMA = ((2/(n+1))*close) + ((1-(2/(n+1)))*prevEMA)\n",
    "        arr.append(EMA)\n",
    "        prevEMA = EMA\n",
    "    return arr\n",
    "\n",
    "#Calculate EMA with n=12 and n=26\n",
    "\n",
    "EMA_12 = EMA(data, 12)\n",
    "EMA_26 = EMA(data, 26)\n",
    "\n",
    "#add EMA to dataframe \n",
    "\n",
    "data['EMA_12'] = EMA_12\n",
    "data['EMA_26'] = EMA_26"
   ]
  },
  {
   "cell_type": "code",
   "execution_count": 29,
   "metadata": {},
   "outputs": [],
   "source": [
    "#ROI function\n",
    "\n",
    "def ROI(df,n):\n",
    "    m = len(df)\n",
    "    arr = []\n",
    "    for i in range(0,n):\n",
    "        arr.append('N')\n",
    "    for j in range(n,m):\n",
    "        roi= (df.Close[j] - df.Close[j-n])/df.Close[j-n] #Equation for ROI\n",
    "        arr.append(roi)\n",
    "    return arr\n",
    "\n",
    "#Run the ROI function for 10, 20, and 30 day periods\n",
    "\n",
    "ROI10=ROI(data,10)\n",
    "ROI20=ROI(data,20)\n",
    "ROI30=ROI(data,30)\n",
    "\n",
    "\n",
    "#Add all 3 ROI results to dataframe \n",
    "\n",
    "data['10 Day ROI']=ROI10\n",
    "data['20 Day ROI']=ROI20\n",
    "data['30 Day ROI']=ROI30"
   ]
  },
  {
   "cell_type": "code",
   "execution_count": 30,
   "metadata": {},
   "outputs": [],
   "source": [
    "# calculate momentum for each day\n",
    "# 5-day momentum\n",
    "\n",
    "def momentum(df):\n",
    "    n = len(df)\n",
    "    arr = []\n",
    "    for i in range(0,5):\n",
    "        arr.append('N')\n",
    "    for j in range(5,n):\n",
    "        momentum = df.Close[j] - df.Close[j-5] #Equation for momentum\n",
    "        arr.append(momentum)\n",
    "    return arr\n",
    "\n",
    "momentum = momentum(data)\n",
    "\n",
    "# add momentum to data\n",
    "data['Momentum'] = momentum"
   ]
  },
  {
   "cell_type": "code",
   "execution_count": 31,
   "metadata": {},
   "outputs": [],
   "source": [
    "#MACD\n",
    "# Moving Average of EMA(n) - EMA(m2) for each row\n",
    "# where n = 12 and m2 = 26\n",
    "def MACD(df):\n",
    "    n = 12\n",
    "    m2 = 26\n",
    "    arr = []\n",
    "    arr.append('N')\n",
    "    ema_12 = EMA(df,n)\n",
    "    ema_26 = EMA(df,m2)\n",
    "    m = len(df)\n",
    "    for i in range(1,m):\n",
    "        arr.append(ema_12[i] - ema_26[i])\n",
    "    return arr\n",
    "\n",
    "MACD = MACD(data)\n",
    "\n",
    "#Add MACD to our dataframe \n",
    "data['MACD_12_26'] = MACD"
   ]
  },
  {
   "cell_type": "code",
   "execution_count": 32,
   "metadata": {},
   "outputs": [],
   "source": [
    "# calculate Williams %R oscillator for each day\n",
    "\n",
    "def Williams(df,n):\n",
    "    m = len(df)\n",
    "    arr = []\n",
    "    for i in range(0,n-1):\n",
    "        arr.append('N')\n",
    "    for j in range(n-1,m):\n",
    "        maximum = max(data.High[(j-n+1):j+1])\n",
    "        minimum = min(data.Low[(j-n+1):j+1])\n",
    "        val = (-100)*(maximum-df.Close[j])/(maximum-minimum)\n",
    "        arr.append(val)\n",
    "    return arr\n",
    "\n",
    "\n",
    "williams = Williams(data,14)\n",
    "\n",
    "#Add Williams%R to our dataframe\n",
    "data['Williams'] = williams"
   ]
  },
  {
   "cell_type": "code",
   "execution_count": 33,
   "metadata": {},
   "outputs": [],
   "source": [
    "# True Range\n",
    "# TR = MAX(high[today] - close[yesterday]) - MIN(low[today] - close[yesterday])\n",
    "def TR(df,n):\n",
    "    high = df.High[n]\n",
    "    low = df.Low[n]\n",
    "    close = df.Close[n-1]\n",
    "    l_max = list()\n",
    "    l_max.append(high)\n",
    "    l_max.append(close)\n",
    "    l_min = list()\n",
    "    l_min.append(low)\n",
    "    l_min.append(close)\n",
    "    return (max(l_max) - min(l_min))\n",
    "\n",
    "# Average True Range\n",
    "# Same as EMA except use TR in lieu of close (prevEMA = TR(dataframe,14days))\n",
    "def ATR(df,n):\n",
    "    m = len(df)\n",
    "    arr = []\n",
    "    prevEMA = TR(df,n+1)\n",
    "    for i in range(0,n):\n",
    "        arr.append('N')\n",
    "    for j in range(n,m):\n",
    "        TR_ = TR(df,j)\n",
    "        EMA = ((2/(n+1))*TR_) + ((1-(2/(n+1)))*prevEMA)\n",
    "        arr.append(EMA)\n",
    "        prevEMA = EMA\n",
    "    return arr\n",
    "\n",
    "ATR = ATR(data,14)  \n",
    "\n",
    "#Add ATR to our dataframe\n",
    "data['ATR_14'] = ATR"
   ]
  },
  {
   "cell_type": "code",
   "execution_count": 34,
   "metadata": {},
   "outputs": [],
   "source": [
    "# calculate Commodity Channel Index (CCI) for each day\n",
    "\n",
    "import numpy as np\n",
    "def CCI(df,n):\n",
    "    m = len(df)\n",
    "    arr = []\n",
    "    tparr = []\n",
    "    for i in range(0,n-1):\n",
    "        arr.append('N')\n",
    "        tp = (df.High[i]+df.Low[i]+df.Close[i])/3\n",
    "        tparr.append(tp)\n",
    "    for j in range(n-1,m):\n",
    "        tp = (df.High[j]+df.Low[j]+df.Close[j])/3\n",
    "        tparr.append(tp) \n",
    "        tps = np.array(tparr[(j-n+1):(j+1)])\n",
    "        val = (tp-tps.mean())/(0.015*tps.std())\n",
    "        arr.append(val)\n",
    "    return arr\n",
    "\n",
    "cci = CCI(data,20) \n",
    "\n",
    "#Add CCI to our dataframe\n",
    "data['CCI'] = cci"
   ]
  },
  {
   "cell_type": "code",
   "execution_count": 35,
   "metadata": {},
   "outputs": [
    {
     "name": "stderr",
     "output_type": "stream",
     "text": [
      "/home/ec2-user/anaconda3/envs/amazonei_mxnet_p36/lib/python3.6/site-packages/ipykernel/__main__.py:23: RuntimeWarning: divide by zero encountered in double_scalars\n"
     ]
    }
   ],
   "source": [
    "# calculate RSI for each day\n",
    "\n",
    "\n",
    "def RSI(df,period):\n",
    "    # get average of upwards of last 14 days: Ct - Ct-1\n",
    "    # get average of downwards of last 14 days: Ct-1 - Ct\n",
    "    n = len(df)\n",
    "    arr = []\n",
    "    for i in range(0,period):\n",
    "        arr.append('N')\n",
    "    for j in range(period,n):\n",
    "        total_upwards = 0\n",
    "        total_downwards = 0\n",
    "        # this will find average of upwards\n",
    "        for k in range(j,j-period,-1):\n",
    "            if(df.Close[k-1] > df.Close[k]):\n",
    "                total_downwards = total_downwards + (df.Close[k-1] - df.Close[k])    \n",
    "        avg_down = total_downwards / period\n",
    "        for l in range(j,j-period,-1):\n",
    "            if(df.Close[l] > df.Close[l-1]):\n",
    "                total_upwards = total_upwards + (df.Close[l] - df.Close[l-1])\n",
    "        avg_up = total_upwards / period\n",
    "        RS = avg_up / avg_down\n",
    "        RSI  = 100 - (100/(1+RS))\n",
    "        arr.append(RSI)\n",
    "    return arr\n",
    "\n",
    "\n",
    "#Run RSI for 10, 14, and 30 day periods\n",
    "\n",
    "RSI_14 = RSI(data,14)\n",
    "RSI_10 = RSI(data,10)\n",
    "RSI_30 = RSI(data,30)\n",
    "\n",
    "# add RSI to data\n",
    "\n",
    "data['10_day_RSI'] = RSI_10\n",
    "data['14_day_RSI'] = RSI_14\n",
    "data['30_day_RSI'] = RSI_30"
   ]
  },
  {
   "cell_type": "code",
   "execution_count": 36,
   "metadata": {},
   "outputs": [
    {
     "name": "stderr",
     "output_type": "stream",
     "text": [
      "/home/ec2-user/anaconda3/envs/amazonei_mxnet_p36/lib/python3.6/site-packages/ipykernel/__main__.py:23: RuntimeWarning: divide by zero encountered in double_scalars\n"
     ]
    }
   ],
   "source": [
    "#SRSI: Stochastic RSI\n",
    "#SRSI = (RSI_today - min(RSI_past_n)) / (max(RSI_past_n) - min(RSI_past_n))\n",
    "def SRSI(df,n):\n",
    "    m = len(df)\n",
    "    arr = []\n",
    "    list_RSI = RSI(df,n)\n",
    "    for i in range(0,n):\n",
    "        arr.append('N')\n",
    "    for j in range(n,n+n):\n",
    "        last_n = list_RSI[n:j]\n",
    "        if(not(last_n == []) and not(max(last_n) == min(last_n))):\n",
    "            SRSI = (list_RSI[j] - min(last_n)) / (max(last_n)- min(last_n))\n",
    "            if SRSI > 1:\n",
    "                arr.append(1)\n",
    "            else:\n",
    "                arr.append(SRSI)\n",
    "        else:\n",
    "            arr.append(0)\n",
    "    for j in range(n+n,m):\n",
    "        last_n = list_RSI[2*n:j]\n",
    "        if(not(last_n == []) and not(max(last_n) == min(last_n))):\n",
    "            SRSI = (list_RSI[j] - min(last_n)) / (max(last_n)- min(last_n))\n",
    "            if SRSI > 1:\n",
    "                arr.append(1)\n",
    "            else:\n",
    "                arr.append(SRSI)\n",
    "        else:\n",
    "            arr.append(0)\n",
    "    return arr\n",
    "\n",
    "#Run SRSI for 10, 14, and 30 day periods\n",
    "SRSI_10 = SRSI(data,10)\n",
    "SRSI_14 = SRSI(data,14)\n",
    "SRSI_30 = SRSI(data,30)\n",
    "\n",
    "#Add SRSI to our dataframe\n",
    "data['SRSI_10'] = SRSI_10\n",
    "data['SRSI_14'] = SRSI_14\n",
    "data['SRSI_30'] = SRSI_30"
   ]
  },
  {
   "cell_type": "code",
   "execution_count": 37,
   "metadata": {
    "scrolled": true
   },
   "outputs": [],
   "source": [
    "#Remove the first 30 index which could have a value 'N'\n",
    "newdata=data.drop(data.index[0:30])\n",
    "\n",
    "#Remove the last row of data because class has value 'N'\n",
    "newdata=newdata.drop(newdata.index[-1])\n",
    "\n",
    "#Time series data\n",
    "#----------------------------------------------------------------\n",
    "#Remove our 'Open' column  \n",
    "newdata=newdata.drop(['Open'], axis=1)\n",
    "\n",
    "#Remove our 'Close' column  \n",
    "newdata=newdata.drop(['Close'], axis=1)\n",
    "\n",
    "#Remove 'High' and 'Low' columns to improve the algorithm\n",
    "newdata=newdata.drop(['High','Low'], axis=1)\n",
    "\n",
    "newdata.reset_index(drop=True, inplace=True)"
   ]
  },
  {
   "cell_type": "code",
   "execution_count": 38,
   "metadata": {},
   "outputs": [],
   "source": [
    "newdata.to_csv(data_path) # SAVE DATA INTO LOCAL FILES"
   ]
  }
 ],
 "metadata": {
  "kernelspec": {
   "display_name": "conda_amazonei_mxnet_p36",
   "language": "python",
   "name": "conda_amazonei_mxnet_p36"
  },
  "language_info": {
   "codemirror_mode": {
    "name": "ipython",
    "version": 3
   },
   "file_extension": ".py",
   "mimetype": "text/x-python",
   "name": "python",
   "nbconvert_exporter": "python",
   "pygments_lexer": "ipython3",
   "version": "3.6.13"
  }
 },
 "nbformat": 4,
 "nbformat_minor": 2
}
